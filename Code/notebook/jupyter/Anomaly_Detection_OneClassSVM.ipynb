{
 "cells": [
  {
   "cell_type": "code",
   "execution_count": null,
   "metadata": {},
   "outputs": [],
   "source": [
    "\n",
    "import pandas as pd \n",
    "import matplotlib.pyplot as plt\n",
    "import numpy as np\n",
    "import seaborn as sns\n",
    "\n",
    "from sklearn.svm import OneClassSVM\n",
    "\n",
    "\n",
    "df = pd.read_csv('./REF_Buchungen_2018_Datenset_A.csv',sep=';',header=None, encoding='ISO-8859-1', low_memory=False) \n",
    "\n",
    "\n",
    "df.rename({0: 'KtoNr', 4:'Datum', 8:'Umsatz_S', 9:'Umsatz_H', 19:'Anwender'}, axis=1, inplace=True) \n",
    "#df.rename({0: 'KtoNr', 6:'Umsatz_S', 7:'Umsatz_H',18:'Anwender'}, axis=1, inplace=True)\n",
    " \n",
    "# Filtern der Spalten\n",
    "df= df[['KtoNr','Umsatz_S', 'Umsatz_H', 'Anwender']]\n",
    "\n",
    "#Handle missing values\n",
    "df['KtoNr'].dropna(inplace=True)\n",
    "df['Umsatz_S'].fillna(0, inplace=True)\n",
    "df['Umsatz_H'].fillna(0, inplace=True)\n",
    "df['Anwender'].fillna('Unbekannt', inplace=True)\n",
    "\n",
    "#Filtern der Kontonummern für den Kontenbereich Umsatzerlöse\n",
    "df = df[((df['KtoNr'] >= 8000) & (df['KtoNr'] <= 8589)) | ((df['KtoNr'] >= 8900) & (df['KtoNr'] <= 8919)) | ((df['KtoNr'] >= 8940) & (df['KtoNr'] <= 8959)) |\n",
    "   ((df['KtoNr'] >= 8700) & (df['KtoNr'] <= 8799))].copy()\n",
    "\n",
    "\n",
    "#Datentyptransformationen\n",
    "df['Umsatz_H'] = df['Umsatz_H'].str.replace(',','.')\n",
    "df['Umsatz_H'] = pd.to_numeric(df['Umsatz_H'])\n",
    "\n",
    "df['Umsatz_S'] = df['Umsatz_S'].str.replace(',','.')\n",
    "df['Umsatz_S'] = pd.to_numeric(df['Umsatz_S'])\n",
    "\n",
    "df['Anwender'] = df.Anwender.astype('category')\n",
    "df['Anwender'] = df['Anwender'].cat.codes\n",
    "\n",
    "#Berechnung des Saldos\n",
    "df['Saldo'] = df.apply(lambda row: row.Umsatz_H - row.Umsatz_S, axis = 1) \n",
    "df = df.drop(columns=['Umsatz_S','Umsatz_H', 'KtoNr'])\n",
    "\n",
    "\n",
    "df_Umsaetze = df\n",
    "df_Umsaetze.info()\n"
   ]
  },
  {
   "cell_type": "code",
   "execution_count": null,
   "metadata": {},
   "outputs": [],
   "source": []
  },
  {
   "cell_type": "code",
   "execution_count": null,
   "metadata": {},
   "outputs": [],
   "source": [
    "#df_Umsaetze['Datum'] = pd.to_datetime(df_Umsaetze['Datum'],format='%d.%m.%Y')\n",
    "#df_Umsaetze.sort_values(by=['Datum'], inplace=True)"
   ]
  },
  {
   "cell_type": "code",
   "execution_count": null,
   "metadata": {},
   "outputs": [],
   "source": [
    "#Sortieren der Zahlen nach Datum\n",
    "#df_Umsaetze = df_Umsaetze.drop(columns=['Umsatz_S','Umsatz_H'])\n",
    "#df_Umsaetze = df_Umsaetze.set_index(pd.DatetimeIndex(df_Umsaetze['Datum']))\n",
    "#df_Umsaetze = df_Umsaetze['Saldo'].resample(\"D\").sum()\n",
    "\n",
    "sns.set(style=\"whitegrid\")\n",
    "sns.set(style=\"whitegrid\",rc={'figure.figsize':(20,9)})\n",
    "ax = sns.stripplot(y=df_Umsaetze[\"Saldo\"],x=df_Umsaetze[\"Anwender\"])"
   ]
  },
  {
   "cell_type": "code",
   "execution_count": null,
   "metadata": {},
   "outputs": [],
   "source": []
  },
  {
   "cell_type": "code",
   "execution_count": null,
   "metadata": {},
   "outputs": [],
   "source": []
  },
  {
   "cell_type": "code",
   "execution_count": null,
   "metadata": {},
   "outputs": [],
   "source": [
    "X = df_Umsaetze.values\n",
    "#X = X.reshape(-1,1)\n",
    "\n",
    "#clf = OneClassSVM(gamma='auto', nu=0.01).fit(X)\n",
    "clf = OneClassSVM(gamma='auto', nu=0.01).fit(X)\n",
    "pred = clf.predict(X)\n",
    "scores = clf.score_samples(X)"
   ]
  },
  {
   "cell_type": "code",
   "execution_count": null,
   "metadata": {},
   "outputs": [],
   "source": [
    "df_model = pd.DataFrame(df_Umsaetze.values, columns = ['Anwender','Umsaetze'])\n",
    "\n",
    "## Prediciton and Scores for OneClassSVM Returns -1 for outliers and 1 for inliers.\n",
    "df_model['scores'] = scores\n",
    "df_model['anomaly'] = pred\n",
    "df_model['Anwender'] = df_model['Anwender'].astype(int)\n",
    "df_model.head(10)\n"
   ]
  },
  {
   "cell_type": "code",
   "execution_count": null,
   "metadata": {},
   "outputs": [],
   "source": [
    "ax = sns.stripplot(y=df_model[\"scores\"],x=df_model[\"Anwender\"])"
   ]
  },
  {
   "cell_type": "code",
   "execution_count": null,
   "metadata": {},
   "outputs": [],
   "source": []
  },
  {
   "cell_type": "code",
   "execution_count": null,
   "metadata": {},
   "outputs": [],
   "source": []
  },
  {
   "cell_type": "code",
   "execution_count": null,
   "metadata": {},
   "outputs": [],
   "source": []
  },
  {
   "cell_type": "code",
   "execution_count": null,
   "metadata": {},
   "outputs": [],
   "source": [
    "\n",
    "\n"
   ]
  }
 ],
 "metadata": {
  "kernelspec": {
   "display_name": "Python 3",
   "language": "python",
   "name": "python3"
  },
  "language_info": {
   "codemirror_mode": {
    "name": "ipython",
    "version": 3
   },
   "file_extension": ".py",
   "mimetype": "text/x-python",
   "name": "python",
   "nbconvert_exporter": "python",
   "pygments_lexer": "ipython3",
   "version": "3.8.5"
  },
  "toc": {
   "base_numbering": 1,
   "nav_menu": {},
   "number_sections": false,
   "sideBar": false,
   "skip_h1_title": false,
   "title_cell": "Table of Contents",
   "title_sidebar": "Contents",
   "toc_cell": false,
   "toc_position": {},
   "toc_section_display": false,
   "toc_window_display": false
  }
 },
 "nbformat": 4,
 "nbformat_minor": 2
}
