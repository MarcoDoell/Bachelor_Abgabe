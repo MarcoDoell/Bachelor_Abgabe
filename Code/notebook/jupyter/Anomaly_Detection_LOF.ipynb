{
 "cells": [
  {
   "cell_type": "code",
   "execution_count": null,
   "metadata": {},
   "outputs": [],
   "source": [
    "\n",
    "import pandas as pd \n",
    "import matplotlib.pyplot as plt\n",
    "import numpy as np\n",
    "\n",
    "from sklearn.neighbors import LocalOutlierFactor\n",
    "\n",
    "\n",
    "df = pd.read_csv('./REF_Buchungen_2018.csv',sep=';',header=None, encoding='ISO-8859-1', low_memory=False) \n",
    "\n",
    "#df.rename({0: 'BereichsId', 1: 'KtoNr', 2:'Datum', 3:'BU_Schl', 4:'GKtoNr', 11:'Umsatz_S', 12:'Umsatz_H'}, axis=1, inplace=True) \n",
    "df.rename({0: 'KtoNr', 3:'Datum',6:'Umsatz_S', 7:'Umsatz_H'}, axis=1, inplace=True) \n",
    " \n",
    "df= df[['KtoNr', 'Datum', 'Umsatz_S', 'Umsatz_H']]\n",
    "\n",
    "df['Umsatz_H'] = df['Umsatz_H'].str.replace(',','.')\n",
    "df['Umsatz_H'] = pd.to_numeric(df['Umsatz_H'])\n",
    "\n",
    "df['Umsatz_S'] = df['Umsatz_S'].str.replace(',','.')\n",
    "df['Umsatz_S'] = pd.to_numeric(df['Umsatz_S'])\n",
    " \n",
    "\n",
    "\n",
    "df_Umsaetze = df[((df['KtoNr'] >= 8000) & (df['KtoNr'] <= 8589)) | ((df['KtoNr'] >= 8900) & (df['KtoNr'] <= 8919)) | ((df['KtoNr'] >= 8940) & (df['KtoNr'] <= 8959)) |\n",
    "      ((df['KtoNr'] >= 8700) & (df['KtoNr'] <= 8799))].copy()\n",
    "\n",
    "\n",
    "\n",
    "df_Umsaetze = df_Umsaetze.drop(columns=['KtoNr'])\n",
    "df_Umsaetze.head()\n",
    "\n"
   ]
  },
  {
   "cell_type": "code",
   "execution_count": null,
   "metadata": {},
   "outputs": [],
   "source": []
  },
  {
   "cell_type": "code",
   "execution_count": null,
   "metadata": {},
   "outputs": [],
   "source": [
    "df_Umsaetze['Datum'] = pd.to_datetime(df_Umsaetze['Datum'],format='%d.%m.%Y')\n",
    "df_Umsaetze.sort_values(by=['Datum'], inplace=True)\n",
    "\n",
    "# Saldo berechnen\n",
    "df_Umsaetze['Saldo'] = df.apply(lambda row: row.Umsatz_H - row.Umsatz_S, axis = 1) \n",
    "df_Umsaetze = df_Umsaetze.drop(columns=['Umsatz_S','Umsatz_H'])\n",
    "df_Umsaetze.info()"
   ]
  },
  {
   "cell_type": "code",
   "execution_count": null,
   "metadata": {},
   "outputs": [],
   "source": [
    "#Sortieren der Zahlen nach Datum\n",
    "df_Umsaetze = df_Umsaetze.set_index(pd.DatetimeIndex(df_Umsaetze['Datum']))\n",
    "df_Umsaetze = df_Umsaetze['Saldo'].resample(\"D\").sum()\n",
    "\n",
    "print(df_Umsaetze.values[0:10])\n",
    "df_Umsaetze.plot(style='k.')\n"
   ]
  },
  {
   "cell_type": "code",
   "execution_count": null,
   "metadata": {},
   "outputs": [],
   "source": [
    "clf = LocalOutlierFactor(n_neighbors=20)\n",
    "\n",
    "#Nötig für 1D Values\n",
    "X = df_Umsaetze.values.reshape(-1,1)\n",
    "pred = clf.fit_predict(X)\n",
    "\n",
    "pred[0:10]\n",
    "\n",
    "\n"
   ]
  },
  {
   "cell_type": "code",
   "execution_count": null,
   "metadata": {},
   "outputs": [],
   "source": [
    "X_scores = clf.negative_outlier_factor_\n",
    "\n",
    "X_scores[0:20]"
   ]
  },
  {
   "cell_type": "code",
   "execution_count": null,
   "metadata": {},
   "outputs": [],
   "source": [
    "df_model = pd.DataFrame(df_Umsaetze.values, columns = [\"umsaetze\"])\n",
    "\n",
    "df_model['scores'] = X_scores\n",
    "df_model['anomaly'] = pred\n",
    "df_model.head(20)\n"
   ]
  },
  {
   "cell_type": "code",
   "execution_count": null,
   "metadata": {},
   "outputs": [],
   "source": [
    "df_model.plot(style='k.', x='Umsaetze', y='Score')"
   ]
  },
  {
   "cell_type": "code",
   "execution_count": null,
   "metadata": {},
   "outputs": [],
   "source": []
  },
  {
   "cell_type": "code",
   "execution_count": null,
   "metadata": {},
   "outputs": [],
   "source": []
  },
  {
   "cell_type": "code",
   "execution_count": null,
   "metadata": {},
   "outputs": [],
   "source": [
    "\n",
    "\n"
   ]
  }
 ],
 "metadata": {
  "kernelspec": {
   "display_name": "Python 3",
   "language": "python",
   "name": "python3"
  },
  "language_info": {
   "codemirror_mode": {
    "name": "ipython",
    "version": 3
   },
   "file_extension": ".py",
   "mimetype": "text/x-python",
   "name": "python",
   "nbconvert_exporter": "python",
   "pygments_lexer": "ipython3",
   "version": "3.8.5"
  },
  "toc": {
   "base_numbering": 1,
   "nav_menu": {},
   "number_sections": false,
   "sideBar": false,
   "skip_h1_title": false,
   "title_cell": "Table of Contents",
   "title_sidebar": "Contents",
   "toc_cell": false,
   "toc_position": {},
   "toc_section_display": false,
   "toc_window_display": false
  }
 },
 "nbformat": 4,
 "nbformat_minor": 2
}
